{
  "cells": [
    {
      "cell_type": "markdown",
      "metadata": {
        "id": "view-in-github",
        "colab_type": "text"
      },
      "source": [
        "<a href=\"https://colab.research.google.com/github/codexfast/creative-ai-backend/blob/master/CreativeAI.ipynb\" target=\"_parent\"><img src=\"https://colab.research.google.com/assets/colab-badge.svg\" alt=\"Open In Colab\"/></a>"
      ]
    },
    {
      "cell_type": "code",
      "execution_count": null,
      "metadata": {
        "id": "TpTgEcm-oc9N"
      },
      "outputs": [],
      "source": [
        "# @title # Instalação\n",
        "%cd /content\n",
        "!git clone https://github.com/codexfast/creative-ai-backend.git /content/CreativeAI\n",
        "%cd /content/CreativeAI\n",
        "!pip install -r requirements.txt\n",
        "!git clone -b totoro4 https://github.com/camenduru/ComfyUI /content/CreativeAI/totoro4\n",
        "\n",
        "!pip install pyngrok\n",
        "!pip install qrcode[pil]\n",
        "!pip install -q torchsde einops diffusers accelerate xformers==0.0.28.post2 gradio==3.50.2 python-multipart==0.0.12\n",
        "!pip install --upgrade --force-reinstall torch torchvision torchaudio --index-url https://download.pytorch.org/whl/cu118\n",
        "!apt -y install -qq aria2\n",
        "\n",
        "!aria2c --console-log-level=error -c -x 16 -s 16 -k 1M https://huggingface.co/camenduru/FLUX.1-dev/resolve/main/flux1-dev-fp8-all-in-one.safetensors -d /content/CreativeAI/models/checkpoints -o flux1-dev-fp8-all-in-one.safetensors\n",
        "!aria2c --console-log-level=error -c -x 16 -s 16 -k 1M https://huggingface.co/camenduru/FLUX.1-dev/resolve/main/flux_realism_lora.safetensors -d /content/CreativeAI/models/loras -o flux_realism_lora.safetensors"
      ]
    },
    {
      "cell_type": "code",
      "execution_count": null,
      "metadata": {
        "id": "MfqBU5LddUtv"
      },
      "outputs": [],
      "source": [
        "!ln -s /content/CreativeAI/models/ /content/CreativeAI/totoro4/models\n",
        "%cd /content/CreativeAI\n",
        "\n",
        "from pyngrok import ngrok\n",
        "from IPython.display import display\n",
        "import qrcode\n",
        "\n",
        "# Configure seu token (uma vez por sessão)\n",
        "ngrok.set_auth_token(\"SEU_TOKEN\")\n",
        "\n",
        "# Abra o túnel na porta 8000\n",
        "tunnel = ngrok.connect(8000)\n",
        "\n",
        "# ✅ Obtenha apenas a URL pública\n",
        "public_url = tunnel.public_url\n",
        "\n",
        "print(\"URL pública do ngrok:\", public_url)\n",
        "print()\n",
        "qr = qrcode.make(public_url)\n",
        "display(qr)\n",
        "\n",
        "\n",
        "try:\n",
        "  !fastapi run\n",
        "finally:\n",
        "  print(\"Falha, encerrando aplicação!\")\n",
        "  ngrok.disconnect(public_url)\n"
      ]
    }
  ],
  "metadata": {
    "accelerator": "GPU",
    "colab": {
      "gpuType": "T4",
      "provenance": [],
      "include_colab_link": true
    },
    "kernelspec": {
      "display_name": "Python 3",
      "name": "python3"
    },
    "language_info": {
      "name": "python"
    }
  },
  "nbformat": 4,
  "nbformat_minor": 0
}
